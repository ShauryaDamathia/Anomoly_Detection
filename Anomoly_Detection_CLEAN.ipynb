{
 "cells": [
  {
   "cell_type": "code",
   "execution_count": null,
   "metadata": {
    "colab": {
     "base_uri": "https://localhost:8080/",
     "height": 1000
    },
    "executionInfo": {
     "elapsed": 158662,
     "status": "ok",
     "timestamp": 1732731059807,
     "user": {
      "displayName": "Shaurya Damathia",
      "userId": "14598933962405927679"
     },
     "user_tz": -330
    },
    "id": "4My80dbGOBZT",
    "outputId": "c9dbef8c-08af-4a93-fdd4-5cc839bf5449"
   },
   "outputs": [],
   "source": [
    "pip install pycaret[full]"
   ]
  },
  {
   "cell_type": "code",
   "execution_count": null,
   "metadata": {
    "colab": {
     "base_uri": "https://localhost:8080/",
     "height": 35
    },
    "executionInfo": {
     "elapsed": 1045,
     "status": "ok",
     "timestamp": 1732732701621,
     "user": {
      "displayName": "Shaurya Damathia",
      "userId": "14598933962405927679"
     },
     "user_tz": -330
    },
    "id": "XeIzTq-gOYWM",
    "outputId": "aa2facfd-6a6a-4716-e1a7-1b12dd91ea81"
   },
   "outputs": [],
   "source": [
    "import pycaret\n",
    "pycaret.__version__"
   ]
  },
  {
   "cell_type": "code",
   "execution_count": null,
   "metadata": {
    "colab": {
     "base_uri": "https://localhost:8080/",
     "height": 206
    },
    "executionInfo": {
     "elapsed": 8,
     "status": "ok",
     "timestamp": 1732732701622,
     "user": {
      "displayName": "Shaurya Damathia",
      "userId": "14598933962405927679"
     },
     "user_tz": -330
    },
    "id": "GZGDVT3SObBl",
    "outputId": "ecd4eb7b-100d-4547-e1f4-632b033f4258"
   },
   "outputs": [],
   "source": [
    "from pycaret.datasets import get_data\n",
    "data = get_data('anomaly')"
   ]
  },
  {
   "cell_type": "code",
   "execution_count": null,
   "metadata": {
    "colab": {
     "base_uri": "https://localhost:8080/",
     "height": 457
    },
    "executionInfo": {
     "elapsed": 770,
     "status": "ok",
     "timestamp": 1732732703043,
     "user": {
      "displayName": "Shaurya Damathia",
      "userId": "14598933962405927679"
     },
     "user_tz": -330
    },
    "id": "ZDk32hVrOzRe",
    "outputId": "ccfa01ef-d9d2-45d9-e0db-8235a81afd62"
   },
   "outputs": [],
   "source": [
    "from pycaret.anomaly import *\n",
    "s = setup(data, session_id = 123)"
   ]
  },
  {
   "cell_type": "code",
   "execution_count": null,
   "metadata": {
    "executionInfo": {
     "elapsed": 3,
     "status": "ok",
     "timestamp": 1732732703624,
     "user": {
      "displayName": "Shaurya Damathia",
      "userId": "14598933962405927679"
     },
     "user_tz": -330
    },
    "id": "7mKxHZfmO2t-"
   },
   "outputs": [],
   "source": [
    "from pycaret.anomaly import AnomalyExperiment\n",
    "exp = AnomalyExperiment()"
   ]
  },
  {
   "cell_type": "code",
   "execution_count": null,
   "metadata": {
    "colab": {
     "base_uri": "https://localhost:8080/",
     "height": 120
    },
    "executionInfo": {
     "elapsed": 5,
     "status": "ok",
     "timestamp": 1732732704576,
     "user": {
      "displayName": "Shaurya Damathia",
      "userId": "14598933962405927679"
     },
     "user_tz": -330
    },
    "id": "gSDXgPlYO3qu",
    "outputId": "ddb4ef3e-e25b-4661-8837-1ec44da3d9c2"
   },
   "outputs": [],
   "source": [
    "type(exp)"
   ]
  },
  {
   "cell_type": "code",
   "execution_count": null,
   "metadata": {
    "colab": {
     "base_uri": "https://localhost:8080/",
     "height": 474
    },
    "executionInfo": {
     "elapsed": 775,
     "status": "ok",
     "timestamp": 1732732705956,
     "user": {
      "displayName": "Shaurya Damathia",
      "userId": "14598933962405927679"
     },
     "user_tz": -330
    },
    "id": "SGUkDGWBPLmG",
    "outputId": "7c44691a-670b-4762-f386-e7b4639962ac"
   },
   "outputs": [],
   "source": [
    "exp.setup(data, session_id = 123)"
   ]
  },
  {
   "cell_type": "markdown",
   "metadata": {
    "id": "A_8n5tJlPPQP"
   },
   "source": [
    "# **Create Model**"
   ]
  },
  {
   "cell_type": "code",
   "execution_count": null,
   "metadata": {
    "colab": {
     "base_uri": "https://localhost:8080/",
     "height": 34,
     "referenced_widgets": [
      "6e98deff04e043bba220fcf0c1e0111c",
      "6e252e0db2cf4be58f7c51956b12d8d8",
      "a00151960f0f4177877f9873707794b3",
      "45da7131553d47f793bc9b0d0b3b3f48",
      "93fb09944f85434b93e9a8c139f5d41d",
      "5a10893821e1424a9254b39708845f0c",
      "263b9b88f72447e5aefbaa0008eb4894",
      "1f77521b74f34309bb2ff4f8c2964aca",
      "b348b7539a164d35ae5a4236e4c9e2fd",
      "ad1f9be301194703b1662c43c236197e",
      "977287b66cfa4c9a9713abd7e78ec73e"
     ]
    },
    "executionInfo": {
     "elapsed": 1714,
     "status": "ok",
     "timestamp": 1732732708219,
     "user": {
      "displayName": "Shaurya Damathia",
      "userId": "14598933962405927679"
     },
     "user_tz": -330
    },
    "id": "_m_np54yPVWb",
    "outputId": "2315154f-4c49-449a-b811-f682a43492ee"
   },
   "outputs": [],
   "source": [
    "model_test = create_model('sod')\n",
    "model_test\n"
   ]
  },
  {
   "cell_type": "code",
   "execution_count": null,
   "metadata": {
    "colab": {
     "base_uri": "https://localhost:8080/",
     "height": 457
    },
    "executionInfo": {
     "elapsed": 7,
     "status": "ok",
     "timestamp": 1732732708219,
     "user": {
      "displayName": "Shaurya Damathia",
      "userId": "14598933962405927679"
     },
     "user_tz": -330
    },
    "id": "U27JjVgTPYyn",
    "outputId": "9ff4c093-e258-4fc2-87c9-c9a8c46e85d8"
   },
   "outputs": [],
   "source": [
    "models()"
   ]
  },
  {
   "cell_type": "code",
   "execution_count": null,
   "metadata": {
    "colab": {
     "base_uri": "https://localhost:8080/",
     "height": 423
    },
    "executionInfo": {
     "elapsed": 6,
     "status": "ok",
     "timestamp": 1732732710507,
     "user": {
      "displayName": "Shaurya Damathia",
      "userId": "14598933962405927679"
     },
     "user_tz": -330
    },
    "id": "yC-ha3bMPcC3",
    "outputId": "3d743eb3-8d17-4050-e5dd-29e0358c423e"
   },
   "outputs": [],
   "source": [
    "model_anomalies = assign_model(model_test)\n",
    "model_anomalies"
   ]
  },
  {
   "cell_type": "code",
   "execution_count": null,
   "metadata": {
    "colab": {
     "base_uri": "https://localhost:8080/",
     "height": 817
    },
    "executionInfo": {
     "elapsed": 25472,
     "status": "ok",
     "timestamp": 1732732737552,
     "user": {
      "displayName": "Shaurya Damathia",
      "userId": "14598933962405927679"
     },
     "user_tz": -330
    },
    "id": "gkaE7Y_ePidK",
    "outputId": "80f79777-b849-44dc-c319-84dbe47d69df"
   },
   "outputs": [],
   "source": [
    "plot_model(model_test, plot = 'tsne')"
   ]
  },
  {
   "cell_type": "code",
   "execution_count": null,
   "metadata": {
    "colab": {
     "base_uri": "https://localhost:8080/",
     "height": 547
    },
    "executionInfo": {
     "elapsed": 1843,
     "status": "error",
     "timestamp": 1732732739391,
     "user": {
      "displayName": "Shaurya Damathia",
      "userId": "14598933962405927679"
     },
     "user_tz": -330
    },
    "id": "kuO_o15OPmxQ",
    "outputId": "2f89cb31-a097-4c53-adf5-0b970d00c5ce"
   },
   "outputs": [],
   "source": [
    "model_pred = predict_model(model_test, data=data)\n",
    "model_pred"
   ]
  },
  {
   "cell_type": "code",
   "execution_count": null,
   "metadata": {
    "executionInfo": {
     "elapsed": 6,
     "status": "ok",
     "timestamp": 1732732670654,
     "user": {
      "displayName": "Shaurya Damathia",
      "userId": "14598933962405927679"
     },
     "user_tz": -330
    },
    "id": "DvpA0V9w0F4L"
   },
   "outputs": [],
   "source": [
    "import numpy as np\n",
    "import pandas as pd"
   ]
  },
  {
   "cell_type": "code",
   "execution_count": null,
   "metadata": {
    "colab": {
     "base_uri": "https://localhost:8080/"
    },
    "executionInfo": {
     "elapsed": 6,
     "status": "ok",
     "timestamp": 1732732670654,
     "user": {
      "displayName": "Shaurya Damathia",
      "userId": "14598933962405927679"
     },
     "user_tz": -330
    },
    "id": "GaASZabmX55X",
    "outputId": "559a949a-639d-4964-88b7-f40255e41c75"
   },
   "outputs": [],
   "source": [
    "import pandas as pd\n",
    "from sklearn.cluster import KMeans\n",
    "from sklearn.metrics import silhouette_score\n",
    "from sklearn.preprocessing import StandardScaler\n",
    "\n",
    "new = model_pred\n",
    "non_anomalous_data = new[new['Anomaly'] == 0].drop(['Anomaly', 'Anomaly_Score'], axis=1)\n",
    "\n",
    "scaler = StandardScaler()\n",
    "scaled_data = scaler.fit_transform(non_anomalous_data)\n",
    "\n",
    "best_score = -1\n",
    "best_k = None\n",
    "best_kmeans = None\n",
    "\n",
    "for k in range(2, 11):\n",
    "    kmeans = KMeans(n_clusters=k, random_state=0)\n",
    "    cluster_labels = kmeans.fit_predict(scaled_data)\n",
    "    score = silhouette_score(scaled_data, cluster_labels)\n",
    "    print(f\"Silhouette Score for {k} clusters: {score}\")\n",
    "\n",
    "    if score > best_score:\n",
    "        best_score = score\n",
    "        best_k = k\n",
    "        best_kmeans = kmeans\n",
    "\n",
    "print(f\"Best number of clusters: {best_k}\")"
   ]
  },
  {
   "cell_type": "code",
   "execution_count": null,
   "metadata": {
    "colab": {
     "base_uri": "https://localhost:8080/",
     "height": 680
    },
    "executionInfo": {
     "elapsed": 1008,
     "status": "ok",
     "timestamp": 1732732671656,
     "user": {
      "displayName": "Shaurya Damathia",
      "userId": "14598933962405927679"
     },
     "user_tz": -330
    },
    "id": "Vxy-_Rb7tHdh",
    "outputId": "7d2ff0c1-c079-4f53-bc14-fa4fa7b133b1"
   },
   "outputs": [],
   "source": [
    "from sklearn.decomposition import PCA\n",
    "import matplotlib.pyplot as plt\n",
    "\n",
    "pca = PCA(n_components=2)\n",
    "reduced_data = pca.fit_transform(scaled_data)\n",
    "\n",
    "from sklearn.cluster import KMeans\n",
    "\n",
    "best_kmeans = KMeans(n_clusters=best_k, random_state=42).fit(reduced_data)\n",
    "\n",
    "plt.scatter(reduced_data[:, 0], reduced_data[:, 1], c=best_kmeans.labels_, cmap='viridis')\n",
    "plt.xlabel('PCA Component 1')\n",
    "plt.ylabel('PCA Component 2')\n",
    "plt.title('Clusters Visualized with PCA')\n",
    "plt.colorbar(label='Cluster')\n",
    "plt.show()\n",
    "\n",
    "print(\"Explained variance ratio:\", pca.explained_variance_ratio_)\n",
    "\n",
    "pca_components = pd.DataFrame(pca.components_, columns=non_anomalous_data.columns, index=['PC1', 'PC2'])\n",
    "print(\"Feature contribution to each principal component:\\n\", pca_components)\n"
   ]
  },
  {
   "cell_type": "code",
   "execution_count": null,
   "metadata": {
    "colab": {
     "base_uri": "https://localhost:8080/"
    },
    "executionInfo": {
     "elapsed": 8,
     "status": "ok",
     "timestamp": 1732732671657,
     "user": {
      "displayName": "Shaurya Damathia",
      "userId": "14598933962405927679"
     },
     "user_tz": -330
    },
    "id": "xpv1Dv-qwzKo",
    "outputId": "ed8487ea-0bc1-4198-9192-ce3a56870a9a"
   },
   "outputs": [],
   "source": [
    "import pandas as pd\n",
    "\n",
    "contributions = {col: pca_components.loc['PC1', col] for col in pca_components.columns}\n",
    "\n",
    "contributions_df = pd.DataFrame(list(contributions.items()), columns=[\"Feature\", \"Contribution\"])\n",
    "contributions_df[\"Absolute_Contribution\"] = contributions_df[\"Contribution\"].abs()\n",
    "contributions_df = contributions_df.sort_values(by=\"Absolute_Contribution\", ascending=False)\n",
    "\n",
    "best_features = contributions_df.head(4)\n",
    "print(\"Best 4 parameters for iforest based on PCA contributions:\")\n",
    "print(best_features)\n",
    "\n"
   ]
  },
  {
   "cell_type": "code",
   "execution_count": null,
   "metadata": {
    "colab": {
     "base_uri": "https://localhost:8080/"
    },
    "executionInfo": {
     "elapsed": 1517,
     "status": "ok",
     "timestamp": 1732732673169,
     "user": {
      "displayName": "Shaurya Damathia",
      "userId": "14598933962405927679"
     },
     "user_tz": -330
    },
    "id": "8Bg_ck_CS3cQ",
    "outputId": "b11b0efc-6ca8-4b4a-8ea6-b95372054919"
   },
   "outputs": [],
   "source": [
    "data = model_pred\n",
    "\n",
    "pca_components.loc['Absolute_Contribution'] = pca_components.loc['PC1'].abs()\n",
    "sorted_features = pca_components.loc['Absolute_Contribution'].sort_values(ascending=False)\n",
    "selected_features = sorted_features.index[:4].tolist()\n",
    "\n",
    "X_selected = data[selected_features]\n",
    "model_test.fit(X_selected)\n",
    "anomaly_labels = model_test.predict(X_selected)\n",
    "\n",
    "anomaly_count = np.sum(anomaly_labels == 1)\n",
    "normal_count = np.sum(anomaly_labels == 0)\n",
    "\n",
    "print(f\"Anomaly count: {anomaly_count}\")\n",
    "print(f\"Normal count: {normal_count}\")\n"
   ]
  },
  {
   "cell_type": "code",
   "execution_count": null,
   "metadata": {
    "colab": {
     "base_uri": "https://localhost:8080/"
    },
    "executionInfo": {
     "elapsed": 519,
     "status": "ok",
     "timestamp": 1732713389281,
     "user": {
      "displayName": "Shaurya Damathia",
      "userId": "14598933962405927679"
     },
     "user_tz": -330
    },
    "id": "TF9_axeRPsAZ",
    "outputId": "c153ecba-7e54-48f9-d8f4-9aa0ff08870f"
   },
   "outputs": [],
   "source": [
    "save_model(model_test, 'model_pipeline')"
   ]
  },
  {
   "cell_type": "code",
   "execution_count": null,
   "metadata": {
    "colab": {
     "base_uri": "https://localhost:8080/",
     "height": 353
    },
    "executionInfo": {
     "elapsed": 478,
     "status": "ok",
     "timestamp": 1732713407965,
     "user": {
      "displayName": "Shaurya Damathia",
      "userId": "14598933962405927679"
     },
     "user_tz": -330
    },
    "id": "XlfOT4EAPwlZ",
    "outputId": "642fc33e-aa7a-40ef-f551-b13c68daaef0"
   },
   "outputs": [],
   "source": [
    "loaded_model_pipeline = load_model('model_pipeline')\n",
    "loaded_model_pipeline"
   ]
  }
 ],
 "metadata": {
  "colab": {
   "authorship_tag": "ABX9TyOllahs4zsFl3oG1UZxKzpB",
   "provenance": [
    {
     "file_id": "1ECjh3KShgRIbcex0zkOtjhceKzPju2ee",
     "timestamp": 1732643552388
    }
   ]
  },
  "kernelspec": {
   "display_name": "Python 3",
   "name": "python3"
  },
  "language_info": {
   "name": "python"
  },
  "widgets": {
   "application/vnd.jupyter.widget-state+json": {
    "1f77521b74f34309bb2ff4f8c2964aca": {
     "model_module": "@jupyter-widgets/base",
     "model_module_version": "1.2.0",
     "model_name": "LayoutModel",
     "state": {
      "_model_module": "@jupyter-widgets/base",
      "_model_module_version": "1.2.0",
      "_model_name": "LayoutModel",
      "_view_count": null,
      "_view_module": "@jupyter-widgets/base",
      "_view_module_version": "1.2.0",
      "_view_name": "LayoutView",
      "align_content": null,
      "align_items": null,
      "align_self": null,
      "border": null,
      "bottom": null,
      "display": null,
      "flex": null,
      "flex_flow": null,
      "grid_area": null,
      "grid_auto_columns": null,
      "grid_auto_flow": null,
      "grid_auto_rows": null,
      "grid_column": null,
      "grid_gap": null,
      "grid_row": null,
      "grid_template_areas": null,
      "grid_template_columns": null,
      "grid_template_rows": null,
      "height": null,
      "justify_content": null,
      "justify_items": null,
      "left": null,
      "margin": null,
      "max_height": null,
      "max_width": null,
      "min_height": null,
      "min_width": null,
      "object_fit": null,
      "object_position": null,
      "order": null,
      "overflow": null,
      "overflow_x": null,
      "overflow_y": null,
      "padding": null,
      "right": null,
      "top": null,
      "visibility": null,
      "width": null
     }
    },
    "263b9b88f72447e5aefbaa0008eb4894": {
     "model_module": "@jupyter-widgets/controls",
     "model_module_version": "1.5.0",
     "model_name": "DescriptionStyleModel",
     "state": {
      "_model_module": "@jupyter-widgets/controls",
      "_model_module_version": "1.5.0",
      "_model_name": "DescriptionStyleModel",
      "_view_count": null,
      "_view_module": "@jupyter-widgets/base",
      "_view_module_version": "1.2.0",
      "_view_name": "StyleView",
      "description_width": ""
     }
    },
    "45da7131553d47f793bc9b0d0b3b3f48": {
     "model_module": "@jupyter-widgets/controls",
     "model_module_version": "1.5.0",
     "model_name": "HTMLModel",
     "state": {
      "_dom_classes": [],
      "_model_module": "@jupyter-widgets/controls",
      "_model_module_version": "1.5.0",
      "_model_name": "HTMLModel",
      "_view_count": null,
      "_view_module": "@jupyter-widgets/controls",
      "_view_module_version": "1.5.0",
      "_view_name": "HTMLView",
      "description": "",
      "description_tooltip": null,
      "layout": "IPY_MODEL_ad1f9be301194703b1662c43c236197e",
      "placeholder": "​",
      "style": "IPY_MODEL_977287b66cfa4c9a9713abd7e78ec73e",
      "value": " 2/3 [00:01&lt;00:00,  1.73it/s]"
     }
    },
    "5a10893821e1424a9254b39708845f0c": {
     "model_module": "@jupyter-widgets/base",
     "model_module_version": "1.2.0",
     "model_name": "LayoutModel",
     "state": {
      "_model_module": "@jupyter-widgets/base",
      "_model_module_version": "1.2.0",
      "_model_name": "LayoutModel",
      "_view_count": null,
      "_view_module": "@jupyter-widgets/base",
      "_view_module_version": "1.2.0",
      "_view_name": "LayoutView",
      "align_content": null,
      "align_items": null,
      "align_self": null,
      "border": null,
      "bottom": null,
      "display": null,
      "flex": null,
      "flex_flow": null,
      "grid_area": null,
      "grid_auto_columns": null,
      "grid_auto_flow": null,
      "grid_auto_rows": null,
      "grid_column": null,
      "grid_gap": null,
      "grid_row": null,
      "grid_template_areas": null,
      "grid_template_columns": null,
      "grid_template_rows": null,
      "height": null,
      "justify_content": null,
      "justify_items": null,
      "left": null,
      "margin": null,
      "max_height": null,
      "max_width": null,
      "min_height": null,
      "min_width": null,
      "object_fit": null,
      "object_position": null,
      "order": null,
      "overflow": null,
      "overflow_x": null,
      "overflow_y": null,
      "padding": null,
      "right": null,
      "top": null,
      "visibility": null,
      "width": null
     }
    },
    "6e252e0db2cf4be58f7c51956b12d8d8": {
     "model_module": "@jupyter-widgets/controls",
     "model_module_version": "1.5.0",
     "model_name": "HTMLModel",
     "state": {
      "_dom_classes": [],
      "_model_module": "@jupyter-widgets/controls",
      "_model_module_version": "1.5.0",
      "_model_name": "HTMLModel",
      "_view_count": null,
      "_view_module": "@jupyter-widgets/controls",
      "_view_module_version": "1.5.0",
      "_view_name": "HTMLView",
      "description": "",
      "description_tooltip": null,
      "layout": "IPY_MODEL_5a10893821e1424a9254b39708845f0c",
      "placeholder": "​",
      "style": "IPY_MODEL_263b9b88f72447e5aefbaa0008eb4894",
      "value": "Processing:  67%"
     }
    },
    "6e98deff04e043bba220fcf0c1e0111c": {
     "model_module": "@jupyter-widgets/controls",
     "model_module_version": "1.5.0",
     "model_name": "HBoxModel",
     "state": {
      "_dom_classes": [],
      "_model_module": "@jupyter-widgets/controls",
      "_model_module_version": "1.5.0",
      "_model_name": "HBoxModel",
      "_view_count": null,
      "_view_module": "@jupyter-widgets/controls",
      "_view_module_version": "1.5.0",
      "_view_name": "HBoxView",
      "box_style": "",
      "children": [
       "IPY_MODEL_6e252e0db2cf4be58f7c51956b12d8d8",
       "IPY_MODEL_a00151960f0f4177877f9873707794b3",
       "IPY_MODEL_45da7131553d47f793bc9b0d0b3b3f48"
      ],
      "layout": "IPY_MODEL_93fb09944f85434b93e9a8c139f5d41d"
     }
    },
    "93fb09944f85434b93e9a8c139f5d41d": {
     "model_module": "@jupyter-widgets/base",
     "model_module_version": "1.2.0",
     "model_name": "LayoutModel",
     "state": {
      "_model_module": "@jupyter-widgets/base",
      "_model_module_version": "1.2.0",
      "_model_name": "LayoutModel",
      "_view_count": null,
      "_view_module": "@jupyter-widgets/base",
      "_view_module_version": "1.2.0",
      "_view_name": "LayoutView",
      "align_content": null,
      "align_items": null,
      "align_self": null,
      "border": null,
      "bottom": null,
      "display": null,
      "flex": null,
      "flex_flow": null,
      "grid_area": null,
      "grid_auto_columns": null,
      "grid_auto_flow": null,
      "grid_auto_rows": null,
      "grid_column": null,
      "grid_gap": null,
      "grid_row": null,
      "grid_template_areas": null,
      "grid_template_columns": null,
      "grid_template_rows": null,
      "height": null,
      "justify_content": null,
      "justify_items": null,
      "left": null,
      "margin": null,
      "max_height": null,
      "max_width": null,
      "min_height": null,
      "min_width": null,
      "object_fit": null,
      "object_position": null,
      "order": null,
      "overflow": null,
      "overflow_x": null,
      "overflow_y": null,
      "padding": null,
      "right": null,
      "top": null,
      "visibility": "hidden",
      "width": null
     }
    },
    "977287b66cfa4c9a9713abd7e78ec73e": {
     "model_module": "@jupyter-widgets/controls",
     "model_module_version": "1.5.0",
     "model_name": "DescriptionStyleModel",
     "state": {
      "_model_module": "@jupyter-widgets/controls",
      "_model_module_version": "1.5.0",
      "_model_name": "DescriptionStyleModel",
      "_view_count": null,
      "_view_module": "@jupyter-widgets/base",
      "_view_module_version": "1.2.0",
      "_view_name": "StyleView",
      "description_width": ""
     }
    },
    "a00151960f0f4177877f9873707794b3": {
     "model_module": "@jupyter-widgets/controls",
     "model_module_version": "1.5.0",
     "model_name": "FloatProgressModel",
     "state": {
      "_dom_classes": [],
      "_model_module": "@jupyter-widgets/controls",
      "_model_module_version": "1.5.0",
      "_model_name": "FloatProgressModel",
      "_view_count": null,
      "_view_module": "@jupyter-widgets/controls",
      "_view_module_version": "1.5.0",
      "_view_name": "ProgressView",
      "bar_style": "",
      "description": "",
      "description_tooltip": null,
      "layout": "IPY_MODEL_1f77521b74f34309bb2ff4f8c2964aca",
      "max": 3,
      "min": 0,
      "orientation": "horizontal",
      "style": "IPY_MODEL_b348b7539a164d35ae5a4236e4c9e2fd",
      "value": 3
     }
    },
    "ad1f9be301194703b1662c43c236197e": {
     "model_module": "@jupyter-widgets/base",
     "model_module_version": "1.2.0",
     "model_name": "LayoutModel",
     "state": {
      "_model_module": "@jupyter-widgets/base",
      "_model_module_version": "1.2.0",
      "_model_name": "LayoutModel",
      "_view_count": null,
      "_view_module": "@jupyter-widgets/base",
      "_view_module_version": "1.2.0",
      "_view_name": "LayoutView",
      "align_content": null,
      "align_items": null,
      "align_self": null,
      "border": null,
      "bottom": null,
      "display": null,
      "flex": null,
      "flex_flow": null,
      "grid_area": null,
      "grid_auto_columns": null,
      "grid_auto_flow": null,
      "grid_auto_rows": null,
      "grid_column": null,
      "grid_gap": null,
      "grid_row": null,
      "grid_template_areas": null,
      "grid_template_columns": null,
      "grid_template_rows": null,
      "height": null,
      "justify_content": null,
      "justify_items": null,
      "left": null,
      "margin": null,
      "max_height": null,
      "max_width": null,
      "min_height": null,
      "min_width": null,
      "object_fit": null,
      "object_position": null,
      "order": null,
      "overflow": null,
      "overflow_x": null,
      "overflow_y": null,
      "padding": null,
      "right": null,
      "top": null,
      "visibility": null,
      "width": null
     }
    },
    "b348b7539a164d35ae5a4236e4c9e2fd": {
     "model_module": "@jupyter-widgets/controls",
     "model_module_version": "1.5.0",
     "model_name": "ProgressStyleModel",
     "state": {
      "_model_module": "@jupyter-widgets/controls",
      "_model_module_version": "1.5.0",
      "_model_name": "ProgressStyleModel",
      "_view_count": null,
      "_view_module": "@jupyter-widgets/base",
      "_view_module_version": "1.2.0",
      "_view_name": "StyleView",
      "bar_color": null,
      "description_width": ""
     }
    }
   }
  }
 },
 "nbformat": 4,
 "nbformat_minor": 0
}
